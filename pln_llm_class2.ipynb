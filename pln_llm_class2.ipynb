{
  "nbformat": 4,
  "nbformat_minor": 0,
  "metadata": {
    "colab": {
      "provenance": [],
      "toc_visible": true
    },
    "kernelspec": {
      "name": "python3",
      "display_name": "Python 3"
    },
    "language_info": {
      "name": "python"
    }
  },
  "cells": [
    {
      "cell_type": "code",
      "source": [
        "'''\n",
        "  @author: Ed Horácio\n",
        "  @description: Avaliação de modelos de AM: técnicas de separação\n",
        "  @date: 29/09/2025\n",
        "'''"
      ],
      "metadata": {
        "id": "B-96GzgnfeRN"
      },
      "execution_count": null,
      "outputs": []
    },
    {
      "cell_type": "markdown",
      "source": [
        "# Avaliação de Modelos: AM clássica"
      ],
      "metadata": {
        "id": "eG_HvfgQnwdx"
      }
    },
    {
      "cell_type": "markdown",
      "source": [
        "## Ideia Básica: dividir em treino e teste"
      ],
      "metadata": {
        "id": "nQwmRZzin93Y"
      }
    },
    {
      "cell_type": "code",
      "source": [
        "import numpy as np\n",
        "from sklearn.datasets import load_breast_cancer\n",
        "\n",
        "cancer_data = load_breast_cancer()\n",
        "X, y = cancer_data.data, cancer_data.target"
      ],
      "metadata": {
        "id": "G-F6PvjhpqnV"
      },
      "execution_count": null,
      "outputs": []
    },
    {
      "cell_type": "code",
      "source": [
        "print(X.shape)"
      ],
      "metadata": {
        "colab": {
          "base_uri": "https://localhost:8080/"
        },
        "id": "15g3ePlqp_T8",
        "outputId": "5a9c9f0a-38e8-44d4-b00b-1008c291ddf8"
      },
      "execution_count": null,
      "outputs": [
        {
          "output_type": "stream",
          "name": "stdout",
          "text": [
            "(569, 30)\n"
          ]
        }
      ]
    },
    {
      "cell_type": "markdown",
      "source": [
        "### Hold out"
      ],
      "metadata": {
        "id": "-jGW4KmT5yxE"
      }
    },
    {
      "cell_type": "code",
      "source": [
        "from sklearn.model_selection import train_test_split as tts\n",
        "\n",
        "X_train, X_test, y_train, y_test = tts(X, y, test_size=0.2, random_state=42)"
      ],
      "metadata": {
        "id": "NlXWKirLrusc"
      },
      "execution_count": null,
      "outputs": []
    },
    {
      "cell_type": "markdown",
      "source": [
        "### K-fold Cross Validation"
      ],
      "metadata": {
        "id": "8zaef5uI6v-x"
      }
    },
    {
      "cell_type": "code",
      "source": [
        "from sklearn.model_selection import cross_val_score as cvs\n",
        "from sklearn.tree import DecisionTreeClassifier\n",
        "\n",
        "dt1 = DecisionTreeClassifier(criterion='gini')"
      ],
      "metadata": {
        "id": "4hvMYQNx7Qw3"
      },
      "execution_count": null,
      "outputs": []
    },
    {
      "cell_type": "code",
      "source": [
        "scores = cvs(dt1, X_train, y_train, cv=5, random_state=42)\n",
        "print(scores)"
      ],
      "metadata": {
        "colab": {
          "base_uri": "https://localhost:8080/"
        },
        "id": "NKBrrk1M7hTF",
        "outputId": "3c2cd16f-eec7-4af1-f0fd-502702feb812"
      },
      "execution_count": null,
      "outputs": [
        {
          "output_type": "stream",
          "name": "stdout",
          "text": [
            "[0.9010989  0.9010989  0.92307692 0.9010989  0.92307692]\n"
          ]
        }
      ]
    },
    {
      "cell_type": "code",
      "source": [
        "print(round(np.mean(scores),2), \"+/-\", round(np.std(scores),2))"
      ],
      "metadata": {
        "colab": {
          "base_uri": "https://localhost:8080/"
        },
        "id": "2YzvQx8L75vx",
        "outputId": "225c1490-2622-42b8-a01d-15035691d31a"
      },
      "execution_count": null,
      "outputs": [
        {
          "output_type": "stream",
          "name": "stdout",
          "text": [
            "0.91 +/- 0.01\n"
          ]
        }
      ]
    },
    {
      "cell_type": "markdown",
      "source": [
        "### Repeat k-Fold Cross Validation"
      ],
      "metadata": {
        "id": "1VrtMX7I8y2s"
      }
    },
    {
      "cell_type": "markdown",
      "source": [
        "### One leave out"
      ],
      "metadata": {
        "id": "cLVgJjXv9Sbw"
      }
    },
    {
      "cell_type": "markdown",
      "source": [
        "### Quais casos é recomendável utilizar cada tipo de separação?"
      ],
      "metadata": {
        "id": "nzUTxiuj9ZpI"
      }
    }
  ]
}